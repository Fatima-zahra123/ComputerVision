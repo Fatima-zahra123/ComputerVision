{
 "cells": [
  {
   "cell_type": "code",
   "execution_count": null,
   "id": "20a1c31c",
   "metadata": {},
   "outputs": [],
   "source": [
    "import face_recognition \n",
    "import cv2\n",
    "\n",
    "\n",
    "image = face_recognition.load_image_file(\"./photo.jpeg\")\n",
    "imageF = face_recognition.load_image_file(\"./WhatsApp_Image_2022-04-29_at_14.34.06-removebg-preview (2).png\")\n",
    "imageH = face_recognition.load_image_file(\"./WhatsApp_Image_2022-04-29_at_14.34.06-removebg-preview (2).png\")\n",
    "\n",
    "\n",
    "fatyEn = face_recognition.face_encodings(imageF)[0]\n",
    "\n",
    "\n",
    "face_locations = face_recognition.face_locations(image)\n",
    "imageEnco = face_recognition.face_encodings(image,face_locations)\n",
    "\n",
    "\n",
    "\n",
    "# faceMatch =[]\n",
    "# for faceEn in imageEnco :\n",
    "#     matches = face_recognition.compare_faces([fatyEn] , faceEn )\n",
    "#     faceMatch.append(matches)\n",
    "    \n",
    "    \n",
    "name =[\"faty\"]\n",
    "for (top, right, bottom, left),faceEnco in zip(face_locations,imageEnco) :\n",
    "    matches = face_recognition.compare_faces([fatyEn] , faceEnco )\n",
    "    print(matches)\n",
    "    if matches == [True]:\n",
    "        cv2.rectangle(image, (left, top), (right, bottom), (0, 50, 255), 2)\n",
    "        # Draw a label with a name below the face\n",
    "        cv2.rectangle(image, (left, bottom+30), (right, bottom), (0, 0, 255), cv2.FILLED)\n",
    "        font = cv2.FONT_HERSHEY_DUPLEX\n",
    "        cv2.putText(image, name[0], (left + 6, bottom + 20), font, 1.0, (255, 255, 255), 1)\n",
    "    \n",
    "\n",
    "\n",
    "cv2.imshow(\"img\" ,image)\n",
    "cv2.waitKey(0)"
   ]
  }
 ],
 "metadata": {
  "kernelspec": {
   "display_name": "Python 3",
   "language": "python",
   "name": "python3"
  },
  "language_info": {
   "codemirror_mode": {
    "name": "ipython",
    "version": 3
   },
   "file_extension": ".py",
   "mimetype": "text/x-python",
   "name": "python",
   "nbconvert_exporter": "python",
   "pygments_lexer": "ipython3",
   "version": "3.8.8"
  }
 },
 "nbformat": 4,
 "nbformat_minor": 5
}
