{
 "cells": [
  {
   "cell_type": "code",
   "execution_count": 7,
   "id": "70adc5b5",
   "metadata": {},
   "outputs": [],
   "source": [
    "import face_recognition\n",
    "import cv2"
   ]
  },
  {
   "cell_type": "code",
   "execution_count": 10,
   "id": "381c13c8",
   "metadata": {},
   "outputs": [],
   "source": [
    "# Get a reference to webcam #0 (the default one)\n",
    "video_capture = cv2.VideoCapture(0)\n",
    "\n",
    "# Initialize some variables\n",
    "face_locations = []\n",
    "\n",
    "while True:\n",
    "    # Grab a single frame of video\n",
    "    ret, frame = video_capture.read()\n",
    "\n",
    "    # Resize frame of video to 1/4 size for faster face detection processing\n",
    "    small_frame = cv2.resize(frame, (0, 0), fx=0.25, fy=0.25)\n",
    "\n",
    "    # Find all the faces and face encodings in the current frame of video\n",
    "    face_locations = face_recognition.face_locations(small_frame, model=\"cnn\")\n",
    "\n",
    "    # Display the results\n",
    "    for top, right, bottom, left in face_locations:\n",
    "        # Scale back up face locations since the frame we detected in was scaled to 1/4 size\n",
    "        top *= 4\n",
    "        right *= 4\n",
    "        bottom *= 4\n",
    "        left *= 4\n",
    "\n",
    "        # Extract the region of the image that contains the face\n",
    "        face_image = frame[top:bottom, left:right]\n",
    "\n",
    "        # Blur the face image\n",
    "        face_image = cv2.GaussianBlur(face_image, (99, 99), 30)\n",
    "#         face_image = cv2.copyMakeBorder(face_image, 20, 20, 20, 20, cv2.BORDER_CONSTANT, value=[255, 255, 0])\n",
    "        # Draw a box around the face\n",
    "        cv2.rectangle(frame, (left, top), (right, bottom), (0, 0, 255), 2)\n",
    "        # Put the blurred face region back into the frame image\n",
    "        frame[top:bottom, left:right] = face_image\n",
    "\n",
    "    # Display the resulting image\n",
    "    cv2.imshow('Video', frame)\n",
    "\n",
    "    # Hit 'q' on the keyboard to quit!\n",
    "    if cv2.waitKey(1) & 0xFF == ord('q'):\n",
    "        break\n",
    "\n",
    "# Release handle to the webcam\n",
    "video_capture.release()\n",
    "cv2.destroyAllWindows()"
   ]
  },
  {
   "cell_type": "code",
   "execution_count": 8,
   "id": "a12d51fd",
   "metadata": {},
   "outputs": [
    {
     "name": "stdout",
     "output_type": "stream",
     "text": [
      "[False]\n",
      "[False]\n",
      "[True]\n"
     ]
    },
    {
     "data": {
      "text/plain": [
       "-1"
      ]
     },
     "execution_count": 8,
     "metadata": {},
     "output_type": "execute_result"
    }
   ],
   "source": [
    "import face_recognition \n",
    "import cv2\n",
    "image = face_recognition.load_image_file(\"./photo.jpeg\")\n",
    "imageF = face_recognition.load_image_file(\"./WhatsApp_Image_2022-04-29_at_14.34.06-removebg-preview (2).png\")\n",
    "imageH = face_recognition.load_image_file(\"./WhatsApp_Image_2022-04-29_at_14.34.06-removebg-preview (2).png\")\n",
    "\n",
    "\n",
    "fatyEn = face_recognition.face_encodings(imageF)[0]\n",
    "\n",
    "\n",
    "face_locations = face_recognition.face_locations(image)\n",
    "imageEnco = face_recognition.face_encodings(image,face_locations)\n",
    "\n",
    "\n",
    "\n",
    "# faceMatch =[]\n",
    "# for faceEn in imageEnco :\n",
    "#     matches = face_recognition.compare_faces([fatyEn] , faceEn )\n",
    "#     faceMatch.append(matches)\n",
    "    \n",
    "    \n",
    "name =[\"faty\"]\n",
    "for (top, right, bottom, left),faceEnco in zip(face_locations,imageEnco) :\n",
    "    matches = face_recognition.compare_faces([fatyEn] , faceEnco )\n",
    "    print(matches)\n",
    "    if matches == [True]:\n",
    "        cv2.rectangle(image, (left, top), (right, bottom), (0, 50, 255), 2)\n",
    "        # Draw a label with a name below the face\n",
    "        cv2.rectangle(image, (left, bottom+30), (right, bottom), (0, 0, 255), cv2.FILLED)\n",
    "        font = cv2.FONT_HERSHEY_DUPLEX\n",
    "        cv2.putText(image, name[0], (left + 6, bottom + 20), font, 1.0, (255, 255, 255), 1)\n",
    "    \n",
    "\n",
    "\n",
    "cv2.imshow(\"img\" ,image)\n",
    "cv2.waitKey(0)"
   ]
  },
  {
   "cell_type": "code",
   "execution_count": null,
   "id": "d99bc682",
   "metadata": {},
   "outputs": [],
   "source": []
  },
  {
   "cell_type": "code",
   "execution_count": null,
   "id": "08273eef",
   "metadata": {},
   "outputs": [],
   "source": []
  }
 ],
 "metadata": {
  "kernelspec": {
   "display_name": "Python 3",
   "language": "python",
   "name": "python3"
  },
  "language_info": {
   "codemirror_mode": {
    "name": "ipython",
    "version": 3
   },
   "file_extension": ".py",
   "mimetype": "text/x-python",
   "name": "python",
   "nbconvert_exporter": "python",
   "pygments_lexer": "ipython3",
   "version": "3.8.8"
  }
 },
 "nbformat": 4,
 "nbformat_minor": 5
}
