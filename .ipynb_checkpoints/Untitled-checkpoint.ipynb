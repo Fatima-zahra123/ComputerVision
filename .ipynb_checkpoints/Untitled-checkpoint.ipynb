{
 "cells": [
  {
   "cell_type": "code",
   "execution_count": 20,
   "id": "046fbb30",
   "metadata": {},
   "outputs": [],
   "source": [
    "import face_recognition as fr\n",
    "import cv2 \n",
    "from PIL import Image\n"
   ]
  },
  {
   "cell_type": "code",
   "execution_count": 21,
   "id": "ab5fbd80",
   "metadata": {},
   "outputs": [],
   "source": [
    "# cv.imshow(\"mat\",cv.imread(\"./fleurs.jpg\"))"
   ]
  },
  {
   "cell_type": "code",
   "execution_count": 22,
   "id": "e7ebabc9",
   "metadata": {},
   "outputs": [
    {
     "name": "stdout",
     "output_type": "stream",
     "text": [
      "A face is located at pixel location Top: 401, Left: 527, Bottom: 452, Right: 579\n",
      "A face is located at pixel location Top: 499, Left: 319, Bottom: 550, Right: 371\n",
      "A face is located at pixel location Top: 433, Left: 446, Bottom: 495, Right: 508\n"
     ]
    }
   ],
   "source": [
    "import face_recognition\n",
    "image = face_recognition.load_image_file(r\"C:/Users/pc/Desktop/S7/IA/photo.jpeg\")\n",
    "face_locations = face_recognition.face_locations(image)\n",
    "# cv2.imshow(\"img\",image)\n",
    "# cv2.waitKey(0)\n",
    "\n",
    "for face_location in face_locations:\n",
    "\n",
    "    # Print the location of each face in this image\n",
    "    top, right, bottom, left = face_location\n",
    "    print(\"A face is located at pixel location Top: {}, Left: {}, Bottom: {}, Right: {}\".format(top, left, bottom, right))\n",
    "\n",
    "    # You can access the actual face itself like this:\n",
    "    face_image = image[top:bottom, left:right]\n",
    "    pil_image = Image.fromarray(face_image)\n",
    "    pil_image.show()"
   ]
  },
  {
   "cell_type": "code",
   "execution_count": 3,
   "id": "9a905037",
   "metadata": {},
   "outputs": [],
   "source": [
    "import face_recognition\n",
    "import cv2\n",
    "\n",
    "# This is a demo of blurring faces in video.\n",
    "\n",
    "# PLEASE NOTE: This example requires OpenCV (the `cv2` library) to be installed only to read from your webcam.\n",
    "# OpenCV is *not* required to use the face_recognition library. It's only required if you want to run this\n",
    "# specific demo. If you have trouble installing it, try any of the other demos that don't require it instead.\n",
    "\n",
    "# Get a reference to webcam #0 (the default one)\n",
    "video_capture = cv2.VideoCapture(r\"C:\\Users\\pc\\Pictures\\Camera\\20210708_213427.mp4\")\n",
    "\n",
    "# Initialize some variables\n",
    "face_locations = []\n",
    "\n",
    "fourcc = cv2.VideoWriter_fourcc(*'XVID') \n",
    "out = cv2.VideoWriter('output.avi', fourcc, 20.0, (640, 480)) \n",
    "\n",
    "while True:\n",
    "    # Grab a single frame of video\n",
    "    ret, frame = video_capture.read()\n",
    "\n",
    "    # Resize frame of video to 1/4 size for faster face detection processing\n",
    "    small_frame = cv2.resize(frame, (0, 0), fx=0.25, fy=0.25)\n",
    "\n",
    "    # Find all the faces and face encodings in the current frame of video\n",
    "    face_locations = face_recognition.face_locations(small_frame, model=\"cnn\")\n",
    "\n",
    "    # Display the results\n",
    "    for top, right, bottom, left in face_locations:\n",
    "        # Scale back up face locations since the frame we detected in was scaled to 1/4 size\n",
    "        top *= 4\n",
    "        right *= 4\n",
    "        bottom *= 4\n",
    "        left *= 4\n",
    "\n",
    "        # Extract the region of the image that contains the face\n",
    "        face_image = frame[top:bottom, left:right]\n",
    "\n",
    "        # Blur the face image\n",
    "        face_image = cv2.GaussianBlur(face_image, (99, 99), 30)\n",
    "\n",
    "        # Put the blurred face region back into the frame image\n",
    "        frame[top:bottom, left:right] = face_image\n",
    "    \n",
    "    out.write(frame)\n",
    "    # Display the resulting image\n",
    "    cv2.imshow('Video', frame)\n",
    "\n",
    "    # Hit 'q' on the keyboard to quit!\n",
    "    if cv2.waitKey(1) & 0xFF == ord('q'):\n",
    "        break\n",
    "\n",
    "# Release handle to the webcam\n",
    "video_capture.release()\n",
    "out.release()  \n",
    "cv2.destroyAllWindows()"
   ]
  },
  {
   "cell_type": "code",
   "execution_count": null,
   "id": "9b0250dd",
   "metadata": {},
   "outputs": [],
   "source": []
  }
 ],
 "metadata": {
  "kernelspec": {
   "display_name": "Python 3",
   "language": "python",
   "name": "python3"
  },
  "language_info": {
   "codemirror_mode": {
    "name": "ipython",
    "version": 3
   },
   "file_extension": ".py",
   "mimetype": "text/x-python",
   "name": "python",
   "nbconvert_exporter": "python",
   "pygments_lexer": "ipython3",
   "version": "3.8.8"
  }
 },
 "nbformat": 4,
 "nbformat_minor": 5
}
