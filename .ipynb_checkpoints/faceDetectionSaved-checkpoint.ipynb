{
 "cells": [
  {
   "cell_type": "code",
   "execution_count": 8,
   "id": "046fbb30",
   "metadata": {},
   "outputs": [],
   "source": [
    "import cv2 \n",
    "from PIL import Image\n",
    "import face_recognition"
   ]
  },
  {
   "cell_type": "code",
   "execution_count": 9,
   "id": "e7ebabc9",
   "metadata": {},
   "outputs": [
    {
     "name": "stdout",
     "output_type": "stream",
     "text": [
      "A face is located at pixel location Top: 401, Left: 527, Bottom: 452, Right: 579\n",
      "A face is located at pixel location Top: 499, Left: 319, Bottom: 550, Right: 371\n",
      "A face is located at pixel location Top: 433, Left: 446, Bottom: 495, Right: 508\n"
     ]
    }
   ],
   "source": [
    "import face_recognition\n",
    "image = face_recognition.load_image_file(r\"C:/Users/pc/Desktop/S7/IA/photo.jpeg\")\n",
    "face_locations = face_recognition.face_locations(image)\n",
    "\n",
    "counter = 0\n",
    "for face_location in face_locations:\n",
    "\n",
    "    # Print the location of each face in this image\n",
    "    top, right, bottom, left = face_location\n",
    "    print(\"A face is located at pixel location Top: {}, Left: {}, Bottom: {}, Right: {}\".format(top, left, bottom, right))\n",
    "\n",
    "    # You can access the actual face itself like this:\n",
    "    face_image = image[top:bottom, left:right]\n",
    "    pil_image = Image.fromarray(face_image)\n",
    "    cv2.imwrite(\"image\"+str(counter)+\".jpg\" ,face_image )\n",
    "    counter = counter +1\n",
    "    pil_image.show()"
   ]
  },
  {
   "cell_type": "markdown",
   "id": "e456e898",
   "metadata": {},
   "source": [
    "# face detection in real time and save images"
   ]
  },
  {
   "cell_type": "code",
   "execution_count": 10,
   "id": "9a905037",
   "metadata": {},
   "outputs": [],
   "source": [
    "image = face_recognition.load_image_file(r\"C:/Users/pc/Desktop/S7/IA/photo.jpeg\")\n",
    "\n",
    "\n",
    "cap = cv2.VideoCapture(0)\n",
    "counter = 0\n",
    "\n",
    "while cap.isOpened():\n",
    "    ret , frame = cap.read()\n",
    "    face_locations = face_recognition.face_locations(frame)\n",
    "    for face_location in face_locations:\n",
    "\n",
    "        # Print the location of each face in this image\n",
    "        top, right, bottom, left = face_location\n",
    "#         print(\"A face is located at pixel location Top: {}, Left: {}, Bottom: {}, Right: {}\".format(top, left, bottom, right))\n",
    "            \n",
    "        # You can access the actual face itself like this:\n",
    "        face_image = frame[top:bottom, left:right]\n",
    "        pil_image = Image.fromarray(face_image)\n",
    "        cv2.imwrite(\"image\"+str(counter)+\".jpg\" ,face_image )\n",
    "        counter = counter +1\n",
    "#         pil_image.show()\n",
    "        cv2.rectangle(face_image,)\n",
    "    cv2.imshow(\"video\" , frame)\n",
    "    if cv2.waitKey(1) & 0xFF == ord(\"q\"):\n",
    "        break\n",
    "\n",
    "cap.release()\n",
    "cv2.destroyAllWindows()\n",
    "            "
   ]
  },
  {
   "cell_type": "code",
   "execution_count": null,
   "id": "0bfbdd4c",
   "metadata": {},
   "outputs": [],
   "source": []
  },
  {
   "cell_type": "code",
   "execution_count": null,
   "id": "c0033f7e",
   "metadata": {},
   "outputs": [],
   "source": []
  }
 ],
 "metadata": {
  "kernelspec": {
   "display_name": "Python 3",
   "language": "python",
   "name": "python3"
  },
  "language_info": {
   "codemirror_mode": {
    "name": "ipython",
    "version": 3
   },
   "file_extension": ".py",
   "mimetype": "text/x-python",
   "name": "python",
   "nbconvert_exporter": "python",
   "pygments_lexer": "ipython3",
   "version": "3.8.8"
  }
 },
 "nbformat": 4,
 "nbformat_minor": 5
}
