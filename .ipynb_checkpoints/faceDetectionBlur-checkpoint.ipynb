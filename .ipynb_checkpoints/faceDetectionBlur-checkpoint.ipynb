{
 "cells": [
  {
   "cell_type": "markdown",
   "id": "48a272d4",
   "metadata": {},
   "source": [
    "# blur all the faces with haarCascade"
   ]
  },
  {
   "cell_type": "code",
   "execution_count": null,
   "id": "5af7d8f5",
   "metadata": {},
   "outputs": [],
   "source": [
    "import cv2\n",
    "\n",
    "\n",
    "# to detect the face of the human \n",
    "\n",
    "cascade = cv2.CascadeClassifier(\"./haarcascade_frontalface_default.xml\") \n",
    "\n",
    "cap = cv2.VideoCapture(r\"C:\\Users\\pc\\Pictures\\Camera\\20210708_213427.mp4\")\n",
    "cap = cv2.VideoCapture(0)\n",
    "\n",
    "\n",
    "while(True):\n",
    "\n",
    "# Capture frame-by-frame\n",
    "\n",
    "    ret, frame = cap.read()\n",
    "\n",
    "# Display the resulting frame\n",
    "\n",
    "    \n",
    "# convert the frame into grayscale(shades of black & white) \n",
    "\n",
    "    gray_image = cv2.cvtColor(frame, cv2.COLOR_BGR2GRAY) \n",
    "\n",
    "    face = cascade.detectMultiScale(gray_image, \n",
    "\n",
    "                                scaleFactor=2.0, \n",
    "\n",
    "                                minNeighbors=4)\n",
    "   \n",
    "\n",
    "    for x, y, w, h in face: \n",
    "\n",
    "    # draw a border around the detected face. \n",
    "\n",
    "    # (here border color = green, and thickness = 3) \n",
    "\n",
    "        image = cv2.rectangle(frame, (x, y), \n",
    "\n",
    "                          (x+w, y+h),  \n",
    "\n",
    "                          (0, 255, 0), 3) \n",
    "        \n",
    "        image[y:y+h, x:x+w] = cv2.medianBlur(image[y:y+h, x:x+w], 35) \n",
    "        image[y:y+h, x:x+w] = cv2.GaussianBlur(image[y:y+h, x:x+w], (99, 99), 30)\n",
    "\n",
    "    cv2.imshow(\"preview\",frame)\n",
    "\n",
    "#Waits for a user input to quit the application\n",
    "\n",
    "    if cv2.waitKey(1) & 0xFF == ord(\"q\"):\n",
    "\n",
    "        break\n",
    "\n",
    "# When everything done, release the capture\n",
    "\n",
    "cap.release()\n",
    "\n",
    "cv2.destroyAllWindows()"
   ]
  },
  {
   "cell_type": "code",
   "execution_count": null,
   "id": "686b59aa",
   "metadata": {},
   "outputs": [],
   "source": []
  }
 ],
 "metadata": {
  "kernelspec": {
   "display_name": "Python 3",
   "language": "python",
   "name": "python3"
  },
  "language_info": {
   "codemirror_mode": {
    "name": "ipython",
    "version": 3
   },
   "file_extension": ".py",
   "mimetype": "text/x-python",
   "name": "python",
   "nbconvert_exporter": "python",
   "pygments_lexer": "ipython3",
   "version": "3.8.8"
  }
 },
 "nbformat": 4,
 "nbformat_minor": 5
}
