{
 "cells": [
  {
   "cell_type": "code",
   "execution_count": 1,
   "id": "70adc5b5",
   "metadata": {},
   "outputs": [],
   "source": [
    "import face_recognition\n",
    "import cv2q"
   ]
  },
  {
   "cell_type": "code",
   "execution_count": 3,
   "id": "381c13c8",
   "metadata": {},
   "outputs": [],
   "source": [
    "# Get a reference to webcam #0 (the default one)\n",
    "video_capture = cv2.VideoCapture(0)\n",
    "\n",
    "# Initialize some variables\n",
    "face_locations = []\n",
    "\n",
    "while True:\n",
    "    # Grab a single frame of video\n",
    "    ret, frame = video_capture.read()\n",
    "\n",
    "    # Resize frame of video to 1/4 size for faster face detection processing\n",
    "    small_frame = cv2.resize(frame, (0, 0), fx=0.25, fy=0.25)\n",
    "\n",
    "    # Find all the faces and face encodings in the current frame of video\n",
    "    face_locations = face_recognition.face_locations(small_frame, model=\"cnn\")\n",
    "\n",
    "    # Display the results\n",
    "    for top, right, bottom, left in face_locations:\n",
    "        # Scale back up face locations since the frame we detected in was scaled to 1/4 size\n",
    "        top *= 4\n",
    "        right *= 4\n",
    "        bottom *= 4\n",
    "        left *= 4\n",
    "\n",
    "        # Extract the region of the image that contains the face\n",
    "        face_image = frame[top:bottom, left:right]\n",
    "\n",
    "        # Blur the face image\n",
    "        face_image = cv2.GaussianBlur(face_image, (99, 99), 30)\n",
    "#         face_image = cv2.copyMakeBorder(face_image, 20, 20, 20, 20, cv2.BORDER_CONSTANT, value=[255, 255, 0])\n",
    "        # Put the blurred face region back into the frame image\n",
    "        frame[top:bottom, left:right] = face_image\n",
    "\n",
    "    # Display the resulting image\n",
    "    cv2.imshow('Video', frame)\n",
    "\n",
    "    # Hit 'q' on the keyboard to quit!\n",
    "    if cv2.waitKey(1) & 0xFF == ord('q'):\n",
    "        break\n",
    "\n",
    "# Release handle to the webcam\n",
    "video_capture.release()\n",
    "cv2.destroyAllWindows()"
   ]
  },
  {
   "cell_type": "code",
   "execution_count": 23,
   "id": "a12d51fd",
   "metadata": {},
   "outputs": [],
   "source": [
    "import face_recognition \n",
    "image = face_recognition.load_image_file(\"./photo.jpeg\")\n",
    "imageF = face_recognition.load_image_file(\"./faty.png\")\n",
    "\n",
    "\n",
    "fatyEn = face_recognition.face_encodings(imageF)[0]\n",
    "\n",
    "\n",
    "face_locations = face_recognition.face_locations(image)\n",
    "imageEnco = face_recognition.face_encodings(image,face_locations)\n",
    "\n",
    "\n",
    "\n",
    "for faceEn in imageEnco :\n",
    "    matches = face_recognition.compare_faces([fatyEn] , faceEn )\n",
    "    if matches == True :\n",
    "        print(imageEnco.index(faceEn))\n",
    "    \n",
    "\n"
   ]
  },
  {
   "cell_type": "code",
   "execution_count": null,
   "id": "d99bc682",
   "metadata": {},
   "outputs": [],
   "source": []
  },
  {
   "cell_type": "code",
   "execution_count": null,
   "id": "08273eef",
   "metadata": {},
   "outputs": [],
   "source": []
  }
 ],
 "metadata": {
  "kernelspec": {
   "display_name": "Python 3",
   "language": "python",
   "name": "python3"
  },
  "language_info": {
   "codemirror_mode": {
    "name": "ipython",
    "version": 3
   },
   "file_extension": ".py",
   "mimetype": "text/x-python",
   "name": "python",
   "nbconvert_exporter": "python",
   "pygments_lexer": "ipython3",
   "version": "3.8.8"
  }
 },
 "nbformat": 4,
 "nbformat_minor": 5
}
